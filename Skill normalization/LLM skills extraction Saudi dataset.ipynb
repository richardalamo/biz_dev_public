{
 "cells": [
  {
   "cell_type": "markdown",
   "id": "b684412c-426a-4cf5-b73a-a1d2858b46e5",
   "metadata": {},
   "source": [
    "# LLM skills extraction - Saudi Dataset\n",
    "The goal of this notebook is to use gpt4 to extract values for soft skills and technicall skills using the current job descriptions in the Saudi Indeed dataset. This will be done in order to standardize the method of data collection of Saudi Indeed branch with the USA branch of the Job Trends project."
   ]
  },
  {
   "cell_type": "code",
   "execution_count": 1,
   "id": "ed68cc82-b49d-440a-a301-67fcec1777ca",
   "metadata": {},
   "outputs": [],
   "source": [
    "# Import relevant packages\n",
    "import pandas as pd\n",
    "import numpy as np\n",
    "import requests\n",
    "import re\n",
    "import json\n",
    "\n",
    "# Haystack imports\n",
    "from typing import List\n",
    "from haystack.dataclasses import Document\n",
    "from haystack import Pipeline\n",
    "from haystack import component\n",
    "from haystack.components.builders import PromptBuilder\n",
    "from haystack.components.generators.openai import OpenAIGenerator\n",
    "from haystack.components.fetchers import LinkContentFetcher\n",
    "from haystack.components.converters import HTMLToDocument"
   ]
  },
  {
   "cell_type": "code",
   "execution_count": 2,
   "id": "6e45e0b3-48aa-4fb4-b8f4-99888ad7c882",
   "metadata": {},
   "outputs": [],
   "source": [
    "# Supress some warnings\n",
    "\n",
    "import warnings\n",
    "warnings.filterwarnings('ignore')"
   ]
  },
  {
   "cell_type": "code",
   "execution_count": 3,
   "id": "098a8cc6-6e23-4f25-be13-9124ce126a9e",
   "metadata": {},
   "outputs": [],
   "source": [
    "# Load env files\n",
    "\n",
    "from helper import load_env\n",
    "load_env()"
   ]
  },
  {
   "cell_type": "code",
   "execution_count": 9,
   "id": "5a9cf6d1-056d-49f2-a4a5-00200e52a646",
   "metadata": {},
   "outputs": [],
   "source": [
    "# Load data\n",
    "data = pd.read_csv(\"full_llm_labeled_data_march_2025.csv\") "
   ]
  },
  {
   "cell_type": "code",
   "execution_count": 10,
   "id": "29fc4c23",
   "metadata": {},
   "outputs": [
    {
     "data": {
      "text/plain": [
       "label\n",
       "none                         722\n",
       "cloud engineer               424\n",
       "business intelligence        273\n",
       "ai-related                   226\n",
       "data engineer                146\n",
       "data governance              117\n",
       "data analyst                 108\n",
       "data scientist                70\n",
       "machine learning engineer     11\n",
       "data architect                 1\n",
       "Name: count, dtype: int64"
      ]
     },
     "execution_count": 10,
     "metadata": {},
     "output_type": "execute_result"
    }
   ],
   "source": [
    "# Check label counts\n",
    "data['label'].value_counts()"
   ]
  },
  {
   "cell_type": "code",
   "execution_count": 11,
   "id": "e7b82195",
   "metadata": {},
   "outputs": [
    {
     "data": {
      "text/plain": [
       "4224"
      ]
     },
     "execution_count": 11,
     "metadata": {},
     "output_type": "execute_result"
    }
   ],
   "source": [
    "data['label'].isna().sum()"
   ]
  },
  {
   "cell_type": "code",
   "execution_count": 12,
   "id": "facb30c8",
   "metadata": {},
   "outputs": [],
   "source": [
    "# Change labels outside the scope to \"Other\"\n",
    "\n",
    "data['label'].unique()\n",
    "\n",
    "data['label'] = np.where(data['label'].isin(['data governance', \n",
    "                                             'business intelligence', \n",
    "                                             'ai-related', \n",
    "                                             'data engineer', \n",
    "                                             'machine learning engineer', \n",
    "                                             'data scientist', \n",
    "                                             'cloud engineer', \n",
    "                                             'data analyst']), data['label'], 'Other')"
   ]
  },
  {
   "cell_type": "code",
   "execution_count": 13,
   "id": "766d333f",
   "metadata": {},
   "outputs": [
    {
     "data": {
      "text/plain": [
       "label\n",
       "Other                        4947\n",
       "cloud engineer                424\n",
       "business intelligence         273\n",
       "ai-related                    226\n",
       "data engineer                 146\n",
       "data governance               117\n",
       "data analyst                  108\n",
       "data scientist                 70\n",
       "machine learning engineer      11\n",
       "Name: count, dtype: int64"
      ]
     },
     "execution_count": 13,
     "metadata": {},
     "output_type": "execute_result"
    }
   ],
   "source": [
    "# Check if it worked\n",
    "data['label'].value_counts()"
   ]
  },
  {
   "cell_type": "code",
   "execution_count": 14,
   "id": "9c7ff256-fcde-47db-90aa-8a5281bcd122",
   "metadata": {},
   "outputs": [],
   "source": [
    "# Build a haystack component that can be used to fetch job descriptions from the Dataframe\n",
    "\n",
    "@component\n",
    "class DescriptionFetcher:\n",
    "\n",
    "    '''\n",
    "    Fetch information from a row in the dataset and convert it to json format, which can be subsequently embedded and used by a llm model.\n",
    "    '''\n",
    "\n",
    "    @component.output_types(job_info=str)\n",
    "    def run(self, df, row_number: int): # The component requires a DataFrame and a row number (integer position based)\n",
    "        return {\"job_info\": {df.iloc[row_number][[\"description\"]].to_json()}}"
   ]
  },
  {
   "cell_type": "code",
   "execution_count": 17,
   "id": "604ba308-9a52-4d1f-a051-258fb36a4329",
   "metadata": {},
   "outputs": [],
   "source": [
    "# Set the template for query to be equivalent to the one used by USA branch\n",
    "\n",
    "query_template = \"\"\"\n",
    "    You are an expert in extracting both explicit and implicit skills from job descriptions, with a particular focus on accuracy and detail.\n",
    "    Your task is to extract **all** relevant skills and job-related details, ensuring comprehensive coverage, especially for data-related professions.\n",
    "    \n",
    "    1. Identify Soft Skills:\n",
    "        - Extract non-technical skills, such as communication, teamwork, problem-solving, and leadership.\n",
    "        - Include both explicit and implied soft skills (e.g., \"collaborative environment\" suggests teamwork).\n",
    "        - Normalize skill names (e.g., \"Excellent communication skills\" should be \"communication\").\n",
    "        - List all identified soft skills, separated by commas.\n",
    "    \n",
    "    2. Identify Technical Skills and Tools:\n",
    "    \n",
    "        a. Tools:\n",
    "            - Extract specific tools mentioned in the job description, including programming languages, software applications, APIs, libraries, platforms, frameworks, cloud services, and other relevant technologies.\n",
    "            - Extract both general technologies and their specific components (e.g., \"AWS\" and services like \"EMR,\" \"S3\").            \n",
    "            - Examples include Python, SQL, Postman, AWS, and CRM software.\n",
    "            - Normalize tool names (e.g., \"Experience with Python\" becomes \"Python\").\n",
    "            - List all identified tools, separated by commas.\n",
    "    \n",
    "        b. Technical Skills::\n",
    "            - Extract all technical abilities, such as methodologies, domain-specific knowledge, or techniques.\n",
    "            - Extract both broad technical concepts and their specific examples (e.g., \"machine learning\" and related algorithms like \"regression,\" \"clustering\")            \n",
    "            - Examples include data analysis, machine learning algorithms, financial analysis, A/B testing, data governance, clustering, regression.\n",
    "            - Normalize skill names (e.g., \"Proficiency in Machine Learning\" should be \"Machine Learning\").\n",
    "            - List all identified technical skills, separated by commas.\n",
    "\n",
    "    3. Ensure Completeness and Accuracy of the extracted skills:\n",
    "        - Thoroughly review the entire job description to ensure **no skills are missed**.\n",
    "        - Double-check for any overlooked tools, methodologies, or competencies\n",
    "        - If there is any uncertainty about a skill or its classification, include it.\n",
    "\n",
    "    4. Format the Output in JSON:\n",
    "        - Provide the parsed information in the specified JSON format, ensuring clear categorization and accurate listing.\n",
    "    \n",
    "    Example of the expected output:\n",
    "    {\n",
    "      \"soft_skills\": \"communication, teamwork, problem-solving, leadership, adaptability\",\n",
    "      \"tools\": Python, AWS, SQL, S3, Azure\n",
    "      \"technical_skills\": \"Machine Learning, data governance , A/B testin, data visualization\",\n",
    "    }\n",
    "    \n",
    "    Job Description: {{job_description}}\n",
    "    Output:\n",
    "    \"\"\""
   ]
  },
  {
   "cell_type": "code",
   "execution_count": 18,
   "id": "206e101a-417e-49ee-bc78-93ead5a6848f",
   "metadata": {},
   "outputs": [
    {
     "data": {
      "text/plain": [
       "<haystack.core.pipeline.pipeline.Pipeline object at 0x0000029F1E7497D0>\n",
       "🚅 Components\n",
       "  - fetcher: DescriptionFetcher\n",
       "  - prompt: PromptBuilder\n",
       "  - llm_gpt: OpenAIGenerator\n",
       "🛤️ Connections\n",
       "  - fetcher.job_info -> prompt.job_description (str)\n",
       "  - prompt.prompt -> llm_gpt.prompt (str)"
      ]
     },
     "execution_count": 18,
     "metadata": {},
     "output_type": "execute_result"
    }
   ],
   "source": [
    "# Build the application that will be extract soft skills and technical skills from job descriptions\n",
    "\n",
    "fetcher = DescriptionFetcher()\n",
    "prompt = PromptBuilder(template=query_template) \n",
    "llm_gpt = OpenAIGenerator(model=\"gpt-4o-mini\")\n",
    "\n",
    "# Create a pipeline and add the components \n",
    "gpt_extractor = Pipeline()\n",
    "gpt_extractor.add_component(\"fetcher\", fetcher)\n",
    "gpt_extractor.add_component(\"prompt\", prompt)\n",
    "gpt_extractor.add_component(\"llm_gpt\", llm_gpt)\n",
    "\n",
    "# Create connections between components\n",
    "gpt_extractor.connect(\"fetcher.job_info\", \"prompt.job_description\")\n",
    "gpt_extractor.connect(\"prompt\", \"llm_gpt\")"
   ]
  },
  {
   "cell_type": "code",
   "execution_count": 19,
   "id": "910da1b2-6aca-4b79-b214-a936c806cbd7",
   "metadata": {},
   "outputs": [],
   "source": [
    "# Test the application - extract skills from first rows using gpt_extractor application\n",
    "\n",
    "gpt_replies = []\n",
    "\n",
    "for i in range(10):\n",
    "    reply = gpt_extractor.run({\"fetcher\": {\"df\": data, \"row_number\": i}})\n",
    "    gpt_replies.append(reply[\"llm_gpt\"][\"replies\"][0])"
   ]
  },
  {
   "cell_type": "code",
   "execution_count": 20,
   "id": "8917d478-9503-4d0c-b1aa-000707ed3606",
   "metadata": {},
   "outputs": [
    {
     "data": {
      "text/plain": [
       "'```json\\n{\\n  \"soft_skills\": \"analytical, strategic thinking, problem-solving, communication, teamwork, adaptability, presentation, collaboration, project management\",\\n  \"tools\": \"MS Project, PowerPoint, Excel, Word\",\\n  \"technical_skills\": \"strategic planning, project planning, data interpretation, performance tracking, industry analysis, governance development, budget management\"\\n}\\n```'"
      ]
     },
     "execution_count": 20,
     "metadata": {},
     "output_type": "execute_result"
    }
   ],
   "source": [
    "# Inspect reply format\n",
    "gpt_replies[0]"
   ]
  },
  {
   "cell_type": "code",
   "execution_count": 21,
   "id": "500cfb0b-245a-437b-84d1-703958f5e677",
   "metadata": {},
   "outputs": [
    {
     "name": "stdout",
     "output_type": "stream",
     "text": [
      "```json\n",
      "{\n",
      "  \"soft_skills\": \"analytical, strategic thinking, problem-solving, communication, teamwork, adaptability, presentation, collaboration, project management\",\n",
      "  \"tools\": \"MS Project, PowerPoint, Excel, Word\",\n",
      "  \"technical_skills\": \"strategic planning, project planning, data interpretation, performance tracking, industry analysis, governance development, budget management\"\n",
      "}\n",
      "```\n",
      "```json\n",
      "{\n",
      "  \"soft_skills\": \"communication, teamwork, problem-solving, adaptability, integrity, accountability\",\n",
      "  \"tools\": \"EHR, healthcare information systems, ITIL, PMP, CHTS, CAHIMS, CPHIMS\",\n",
      "  \"technical_skills\": \"data collection, audit reporting, cybersecurity, project management\"\n",
      "}\n",
      "```\n",
      "```json\n",
      "{\n",
      "  \"soft_skills\": \"communication, teamwork, problem-solving, leadership, adaptability, integrity, accountability\",\n",
      "  \"tools\": \"HRFISCM systems, service management systems, project management systems, content/document management systems, collaboration platforms, business enterprise solutions, IT project management framework\",\n",
      "  \"technical_skills\": \"business applications, cybersecurity, audit reporting, data collection, enterprise architecture, vendor management, IT demand requests, change management, best practices compliance\"\n",
      "}\n",
      "```\n"
     ]
    }
   ],
   "source": [
    "# Inspect multiple replies\n",
    "\n",
    "for i in range(3):\n",
    "    print(gpt_replies[i])"
   ]
  },
  {
   "cell_type": "code",
   "execution_count": 22,
   "id": "cff3714f-e26f-456a-b373-0f1d8644ada6",
   "metadata": {},
   "outputs": [
    {
     "data": {
      "text/plain": [
       "'{\\n  \"soft_skills\": \"analytical, strategic thinking, problem-solving, communication, teamwork, adaptability, presentation, collaboration, project management\",\\n  \"tools\": \"MS Project, PowerPoint, Excel, Word\",\\n  \"technical_skills\": \"strategic planning, project planning, data interpretation, performance tracking, industry analysis, governance development, budget management\"\\n}'"
      ]
     },
     "execution_count": 22,
     "metadata": {},
     "output_type": "execute_result"
    }
   ],
   "source": [
    "# Capture text that account for the json with the target data \n",
    "\n",
    "pattern = r'\\{.*?\\}'\n",
    "match = re.search(pattern, gpt_replies[0], re.DOTALL)\n",
    "\n",
    "# Inspect match\n",
    "match.group(0)"
   ]
  },
  {
   "cell_type": "code",
   "execution_count": 23,
   "id": "815c30d4-6149-4c4a-a052-f4bba64ce694",
   "metadata": {},
   "outputs": [
    {
     "data": {
      "text/plain": [
       "{'soft_skills': 'analytical, strategic thinking, problem-solving, communication, teamwork, adaptability, presentation, collaboration, project management',\n",
       " 'tools': 'MS Project, PowerPoint, Excel, Word',\n",
       " 'technical_skills': 'strategic planning, project planning, data interpretation, performance tracking, industry analysis, governance development, budget management'}"
      ]
     },
     "execution_count": 23,
     "metadata": {},
     "output_type": "execute_result"
    }
   ],
   "source": [
    "# Transform text data into dictionary\n",
    "\n",
    "# Select text data that matches the pattern\n",
    "json_string = match.group(0)\n",
    "\n",
    "# Convert the json string to  dictionary\n",
    "data_dict = json.loads(json_string)\n",
    "\n",
    "# Inspect resulting dict\n",
    "data_dict"
   ]
  },
  {
   "cell_type": "code",
   "execution_count": null,
   "id": "d15c91f8",
   "metadata": {},
   "outputs": [],
   "source": [
    "# Use this process and the dictionary keys \"soft_skills\", \"tools', and \"technical_skills\" to build new columns for the dataset\n",
    "\n",
    "# Check data lenght\n",
    "len(data)\n",
    "\n",
    "# Create batches of the data. This step is not necessary, but it might allows for more control over the process and \n",
    "# avoid timeouts or other issues that might arise when processing large amounts of data at once.\n",
    "first_batch = data.iloc[0:1000]\n",
    "second_batch = data.iloc[1000:2000]\n",
    "third_batch = data.iloc[2000:3000]\n",
    "fourth_batch = data.iloc[3000:4000]\n",
    "fifth_batch = data.iloc[4000:5000]\n",
    "sixth_batch = data.iloc[5000:6000]\n",
    "seventh_batch = data.iloc[6000:]"
   ]
  },
  {
   "cell_type": "code",
   "execution_count": 61,
   "id": "bd89f379-1393-4098-9a79-c8e88f76d28a",
   "metadata": {},
   "outputs": [],
   "source": [
    "# Use this process and the dictionary keys \"soft_skills\", \"tools', and \"technical_skills\" to build new columns for the dataset\n",
    "\n",
    "def extract_skills(batch, output_file_name, verbose=True):\n",
    "    # Lists to store values\n",
    "    LLM_soft_skills = []\n",
    "    LLM_tools = []\n",
    "    LLM_technical_skills = []\n",
    "\n",
    "    # Repeat process shown above for all of the replies\n",
    "    for i in range(len(batch)):\n",
    "        reply = gpt_extractor.run({\"fetcher\": {\"df\": batch, \"row_number\": i}})\n",
    "        # Capture text that account for the json with the target data \n",
    "        pattern = r'\\{.*?\\}'\n",
    "        match = re.search(pattern, reply[\"llm_gpt\"][\"replies\"][0], re.DOTALL)    \n",
    "        # Select text data that matches the pattern if it exists\n",
    "        try: \n",
    "            json_string = match.group(0)\n",
    "            # Convert the json string to  dictionary\n",
    "            skills_dict = json.loads(json_string)\n",
    "        except:\n",
    "            skills_dict = {\"soft_skills\": [], \"tools\": [], \"technical_skills\": []}\n",
    "        # Add skills extracted to lists created previously\n",
    "        try:\n",
    "            LLM_soft_skills.append(skills_dict[\"soft_skills\"])\n",
    "        except:\n",
    "            LLM_soft_skills.append([])\n",
    "        try:\n",
    "            LLM_tools.append(skills_dict[\"tools\"])\n",
    "        except:\n",
    "            LLM_tools.append([])\n",
    "        try:\n",
    "            LLM_technical_skills.append(skills_dict[\"technical_skills\"])\n",
    "        except:\n",
    "            LLM_technical_skills.append([])\n",
    "        # Print progress every 100 rows if verbose is True. Just for execution control\n",
    "        if (i % 100) == 0 and verbose:\n",
    "            print(f\"Processed {i+1} rows.\")\n",
    "        \n",
    "    # Add skills extracted by the LLM to the current dataset\n",
    "    batch[\"LLM_soft_skills\"] = LLM_soft_skills\n",
    "    batch[\"LLM_tools\"] = LLM_tools\n",
    "    batch[\"LLM_technical_skills\"] = LLM_technical_skills\n",
    "\n",
    "    batch.to_csv(output_file_name, index=False)"
   ]
  },
  {
   "cell_type": "code",
   "execution_count": null,
   "id": "81e40a63",
   "metadata": {},
   "outputs": [
    {
     "name": "stdout",
     "output_type": "stream",
     "text": [
      "Processed 1 rows.\n"
     ]
    }
   ],
   "source": [
    "# Test the function on a small batch   \n",
    "test_run = first_batch.iloc[0:10]\n",
    "extract_skills(test_run, \"test_run.csv\", verbose=True)"
   ]
  },
  {
   "cell_type": "code",
   "execution_count": null,
   "id": "77d6aaa1",
   "metadata": {},
   "outputs": [
    {
     "data": {
      "text/html": [
       "<div>\n",
       "<style scoped>\n",
       "    .dataframe tbody tr th:only-of-type {\n",
       "        vertical-align: middle;\n",
       "    }\n",
       "\n",
       "    .dataframe tbody tr th {\n",
       "        vertical-align: top;\n",
       "    }\n",
       "\n",
       "    .dataframe thead th {\n",
       "        text-align: right;\n",
       "    }\n",
       "</style>\n",
       "<table border=\"1\" class=\"dataframe\">\n",
       "  <thead>\n",
       "    <tr style=\"text-align: right;\">\n",
       "      <th></th>\n",
       "      <th>Soft Skills</th>\n",
       "      <th>LLM_soft_skills</th>\n",
       "      <th>Tools</th>\n",
       "      <th>LLM_tools</th>\n",
       "      <th>Industry Skills</th>\n",
       "      <th>LLM_technical_skills</th>\n",
       "    </tr>\n",
       "  </thead>\n",
       "  <tbody>\n",
       "    <tr>\n",
       "      <th>0</th>\n",
       "      <td>['responsible', 'presentation skills', 'organi...</td>\n",
       "      <td>communication, teamwork, analytical thinking, ...</td>\n",
       "      <td>['powerpoint']</td>\n",
       "      <td>MS Project, PowerPoint, Excel, Word</td>\n",
       "      <td>['problem-solving skills']</td>\n",
       "      <td>strategic planning, business planning, financi...</td>\n",
       "    </tr>\n",
       "    <tr>\n",
       "      <th>1</th>\n",
       "      <td>['integrity', 'professional', 'project managem...</td>\n",
       "      <td>communication, teamwork, problem-solving, trai...</td>\n",
       "      <td>['']</td>\n",
       "      <td>EHR, medical applications, electronic health r...</td>\n",
       "      <td>['project management']</td>\n",
       "      <td>project management, audit reporting, data coll...</td>\n",
       "    </tr>\n",
       "    <tr>\n",
       "      <th>2</th>\n",
       "      <td>['integrity', 'professional', 'project managem...</td>\n",
       "      <td>communication, teamwork, problem-solving, lead...</td>\n",
       "      <td>['']</td>\n",
       "      <td>HRIS, SCM, service management systems, project...</td>\n",
       "      <td>['project management']</td>\n",
       "      <td>business enterprise solutions, cybersecurity, ...</td>\n",
       "    </tr>\n",
       "    <tr>\n",
       "      <th>3</th>\n",
       "      <td>['integrity', 'professional', 'project managem...</td>\n",
       "      <td>communication, teamwork, problem-solving, lead...</td>\n",
       "      <td>['azure', 'aws']</td>\n",
       "      <td>AWS, Azure, Cisco, TOGAF, CISSP, CCIE, PMP, ITIL</td>\n",
       "      <td>['project management']</td>\n",
       "      <td>enterprise architecture, IT architecture, cybe...</td>\n",
       "    </tr>\n",
       "    <tr>\n",
       "      <th>4</th>\n",
       "      <td>['coaching', 'professional', 'coordination', '...</td>\n",
       "      <td>communication, teamwork, problem-solving, lead...</td>\n",
       "      <td>['']</td>\n",
       "      <td>MS Office, recruitment software</td>\n",
       "      <td>['metrics']</td>\n",
       "      <td>talent acquisition, recruitment analytics, job...</td>\n",
       "    </tr>\n",
       "    <tr>\n",
       "      <th>5</th>\n",
       "      <td>['integrity', 'professional', 'project managem...</td>\n",
       "      <td>communication, teamwork, problem-solving, lead...</td>\n",
       "      <td>['']</td>\n",
       "      <td>COBIT, CGEIT, PMP, ITIL</td>\n",
       "      <td>['project management']</td>\n",
       "      <td>IT governance, IT portfolio management, demand...</td>\n",
       "    </tr>\n",
       "    <tr>\n",
       "      <th>6</th>\n",
       "      <td>['integrity', 'professional', 'project managem...</td>\n",
       "      <td>communication, teamwork, problem-solving, lead...</td>\n",
       "      <td>['power bi']</td>\n",
       "      <td>OMS, Power BI, data warehouse, performance man...</td>\n",
       "      <td>['business intelligence', 'project management'...</td>\n",
       "      <td>data management, data quality audits, business...</td>\n",
       "    </tr>\n",
       "    <tr>\n",
       "      <th>7</th>\n",
       "      <td>['integrity', 'responsibility', 'attention to ...</td>\n",
       "      <td>communication, teamwork, analytical thinking, ...</td>\n",
       "      <td>['']</td>\n",
       "      <td>ITIL, CRISC, CISM</td>\n",
       "      <td>['transform', 'data governance']</td>\n",
       "      <td>risk assessment, risk management, policy devel...</td>\n",
       "    </tr>\n",
       "    <tr>\n",
       "      <th>8</th>\n",
       "      <td>['passion', 'adaptability', 'communication ski...</td>\n",
       "      <td>communication, problem-solving, teamwork, adap...</td>\n",
       "      <td>['']</td>\n",
       "      <td>ERP systems</td>\n",
       "      <td>['problem-solving skills', 'monitoring']</td>\n",
       "      <td>supply chain management, materials planning, s...</td>\n",
       "    </tr>\n",
       "    <tr>\n",
       "      <th>9</th>\n",
       "      <td>['professional', 'resilient', 'prioritizing', ...</td>\n",
       "      <td>communication, teamwork, problem-solving, lead...</td>\n",
       "      <td>['']</td>\n",
       "      <td>CAD</td>\n",
       "      <td>['']</td>\n",
       "      <td>drafting operations, design, technical verific...</td>\n",
       "    </tr>\n",
       "  </tbody>\n",
       "</table>\n",
       "</div>"
      ],
      "text/plain": [
       "                                         Soft Skills  \\\n",
       "0  ['responsible', 'presentation skills', 'organi...   \n",
       "1  ['integrity', 'professional', 'project managem...   \n",
       "2  ['integrity', 'professional', 'project managem...   \n",
       "3  ['integrity', 'professional', 'project managem...   \n",
       "4  ['coaching', 'professional', 'coordination', '...   \n",
       "5  ['integrity', 'professional', 'project managem...   \n",
       "6  ['integrity', 'professional', 'project managem...   \n",
       "7  ['integrity', 'responsibility', 'attention to ...   \n",
       "8  ['passion', 'adaptability', 'communication ski...   \n",
       "9  ['professional', 'resilient', 'prioritizing', ...   \n",
       "\n",
       "                                     LLM_soft_skills             Tools  \\\n",
       "0  communication, teamwork, analytical thinking, ...    ['powerpoint']   \n",
       "1  communication, teamwork, problem-solving, trai...              ['']   \n",
       "2  communication, teamwork, problem-solving, lead...              ['']   \n",
       "3  communication, teamwork, problem-solving, lead...  ['azure', 'aws']   \n",
       "4  communication, teamwork, problem-solving, lead...              ['']   \n",
       "5  communication, teamwork, problem-solving, lead...              ['']   \n",
       "6  communication, teamwork, problem-solving, lead...      ['power bi']   \n",
       "7  communication, teamwork, analytical thinking, ...              ['']   \n",
       "8  communication, problem-solving, teamwork, adap...              ['']   \n",
       "9  communication, teamwork, problem-solving, lead...              ['']   \n",
       "\n",
       "                                           LLM_tools  \\\n",
       "0                MS Project, PowerPoint, Excel, Word   \n",
       "1  EHR, medical applications, electronic health r...   \n",
       "2  HRIS, SCM, service management systems, project...   \n",
       "3   AWS, Azure, Cisco, TOGAF, CISSP, CCIE, PMP, ITIL   \n",
       "4                    MS Office, recruitment software   \n",
       "5                            COBIT, CGEIT, PMP, ITIL   \n",
       "6  OMS, Power BI, data warehouse, performance man...   \n",
       "7                                  ITIL, CRISC, CISM   \n",
       "8                                        ERP systems   \n",
       "9                                                CAD   \n",
       "\n",
       "                                     Industry Skills  \\\n",
       "0                         ['problem-solving skills']   \n",
       "1                             ['project management']   \n",
       "2                             ['project management']   \n",
       "3                             ['project management']   \n",
       "4                                        ['metrics']   \n",
       "5                             ['project management']   \n",
       "6  ['business intelligence', 'project management'...   \n",
       "7                   ['transform', 'data governance']   \n",
       "8           ['problem-solving skills', 'monitoring']   \n",
       "9                                               ['']   \n",
       "\n",
       "                                LLM_technical_skills  \n",
       "0  strategic planning, business planning, financi...  \n",
       "1  project management, audit reporting, data coll...  \n",
       "2  business enterprise solutions, cybersecurity, ...  \n",
       "3  enterprise architecture, IT architecture, cybe...  \n",
       "4  talent acquisition, recruitment analytics, job...  \n",
       "5  IT governance, IT portfolio management, demand...  \n",
       "6  data management, data quality audits, business...  \n",
       "7  risk assessment, risk management, policy devel...  \n",
       "8  supply chain management, materials planning, s...  \n",
       "9  drafting operations, design, technical verific...  "
      ]
     },
     "execution_count": 54,
     "metadata": {},
     "output_type": "execute_result"
    }
   ],
   "source": [
    "# Check result\n",
    "test_run[[\"Soft Skills\", \"LLM_soft_skills\", \"Tools\", \"LLM_tools\", \"Industry Skills\", \"LLM_technical_skills\"]]"
   ]
  },
  {
   "cell_type": "code",
   "execution_count": 55,
   "id": "016e64af",
   "metadata": {},
   "outputs": [
    {
     "name": "stdout",
     "output_type": "stream",
     "text": [
      "Processed 1 rows.\n",
      "Processed 101 rows.\n",
      "Processed 201 rows.\n",
      "Processed 301 rows.\n",
      "Processed 401 rows.\n",
      "Processed 501 rows.\n",
      "Processed 601 rows.\n",
      "Processed 701 rows.\n",
      "Processed 801 rows.\n",
      "Processed 901 rows.\n"
     ]
    }
   ],
   "source": [
    "# Run on each batch of the data and save results to csv files\n",
    "extract_skills(first_batch, \"first_batch.csv\", verbose=True)"
   ]
  },
  {
   "cell_type": "code",
   "execution_count": 71,
   "id": "4bfabf43",
   "metadata": {},
   "outputs": [
    {
     "name": "stdout",
     "output_type": "stream",
     "text": [
      "Processed 1 rows.\n",
      "Processed 101 rows.\n",
      "Processed 201 rows.\n",
      "Processed 301 rows.\n",
      "Processed 401 rows.\n",
      "Processed 501 rows.\n",
      "Processed 601 rows.\n",
      "Processed 701 rows.\n",
      "Processed 801 rows.\n",
      "Processed 901 rows.\n"
     ]
    }
   ],
   "source": [
    "extract_skills(second_batch, \"second_batch.csv\", verbose=True)"
   ]
  },
  {
   "cell_type": "code",
   "execution_count": 60,
   "id": "fce3d79a",
   "metadata": {},
   "outputs": [
    {
     "data": {
      "text/plain": [
       "[]"
      ]
     },
     "execution_count": 60,
     "metadata": {},
     "output_type": "execute_result"
    }
   ],
   "source": [
    "test_dict = {\"soft_skills\": [], \"tools\": [], \"technical_skills\": []}\n",
    "test_dict[\"soft_skills\"]"
   ]
  },
  {
   "cell_type": "code",
   "execution_count": null,
   "id": "8ce97acf",
   "metadata": {},
   "outputs": [
    {
     "name": "stdout",
     "output_type": "stream",
     "text": [
      "Processed 1 rows.\n",
      "Processed 101 rows.\n",
      "Processed 201 rows.\n",
      "Processed 301 rows.\n",
      "Processed 401 rows.\n",
      "Processed 501 rows.\n",
      "Processed 601 rows.\n",
      "Processed 701 rows.\n",
      "Processed 801 rows.\n",
      "Processed 901 rows.\n"
     ]
    }
   ],
   "source": [
    "extract_skills(third_batch, \"third_batch.csv\", verbose=True)"
   ]
  },
  {
   "cell_type": "code",
   "execution_count": 63,
   "id": "01b25af8",
   "metadata": {},
   "outputs": [
    {
     "data": {
      "text/html": [
       "<div>\n",
       "<style scoped>\n",
       "    .dataframe tbody tr th:only-of-type {\n",
       "        vertical-align: middle;\n",
       "    }\n",
       "\n",
       "    .dataframe tbody tr th {\n",
       "        vertical-align: top;\n",
       "    }\n",
       "\n",
       "    .dataframe thead th {\n",
       "        text-align: right;\n",
       "    }\n",
       "</style>\n",
       "<table border=\"1\" class=\"dataframe\">\n",
       "  <thead>\n",
       "    <tr style=\"text-align: right;\">\n",
       "      <th></th>\n",
       "      <th>Soft Skills</th>\n",
       "      <th>LLM_soft_skills</th>\n",
       "      <th>Tools</th>\n",
       "      <th>LLM_tools</th>\n",
       "      <th>Industry Skills</th>\n",
       "      <th>LLM_technical_skills</th>\n",
       "    </tr>\n",
       "  </thead>\n",
       "  <tbody>\n",
       "    <tr>\n",
       "      <th>0</th>\n",
       "      <td>NaN</td>\n",
       "      <td>NaN</td>\n",
       "      <td>NaN</td>\n",
       "      <td>NaN</td>\n",
       "      <td>NaN</td>\n",
       "      <td>NaN</td>\n",
       "    </tr>\n",
       "    <tr>\n",
       "      <th>1</th>\n",
       "      <td>NaN</td>\n",
       "      <td>NaN</td>\n",
       "      <td>NaN</td>\n",
       "      <td>NaN</td>\n",
       "      <td>NaN</td>\n",
       "      <td>NaN</td>\n",
       "    </tr>\n",
       "    <tr>\n",
       "      <th>2</th>\n",
       "      <td>NaN</td>\n",
       "      <td>NaN</td>\n",
       "      <td>NaN</td>\n",
       "      <td>NaN</td>\n",
       "      <td>NaN</td>\n",
       "      <td>NaN</td>\n",
       "    </tr>\n",
       "    <tr>\n",
       "      <th>3</th>\n",
       "      <td>NaN</td>\n",
       "      <td>NaN</td>\n",
       "      <td>NaN</td>\n",
       "      <td>NaN</td>\n",
       "      <td>NaN</td>\n",
       "      <td>NaN</td>\n",
       "    </tr>\n",
       "    <tr>\n",
       "      <th>4</th>\n",
       "      <td>NaN</td>\n",
       "      <td>NaN</td>\n",
       "      <td>NaN</td>\n",
       "      <td>NaN</td>\n",
       "      <td>NaN</td>\n",
       "      <td>NaN</td>\n",
       "    </tr>\n",
       "    <tr>\n",
       "      <th>...</th>\n",
       "      <td>...</td>\n",
       "      <td>...</td>\n",
       "      <td>...</td>\n",
       "      <td>...</td>\n",
       "      <td>...</td>\n",
       "      <td>...</td>\n",
       "    </tr>\n",
       "    <tr>\n",
       "      <th>995</th>\n",
       "      <td>['teamwork', 'responsibility', 'integrity']</td>\n",
       "      <td>communication, teamwork, problem-solving, atte...</td>\n",
       "      <td>['']</td>\n",
       "      <td>calibration equipment, testing equipment, tech...</td>\n",
       "      <td>['']</td>\n",
       "      <td>quality control, testing methodologies, lean m...</td>\n",
       "    </tr>\n",
       "    <tr>\n",
       "      <th>996</th>\n",
       "      <td>['discipline', 'focus', 'communication', 'desi...</td>\n",
       "      <td>communication, teamwork, interpersonal skills,...</td>\n",
       "      <td>['sap']</td>\n",
       "      <td>ProE, Creo, AutoCAD, SAP, MS Office</td>\n",
       "      <td>['']</td>\n",
       "      <td>electrical engineering, gas insulated switchge...</td>\n",
       "    </tr>\n",
       "    <tr>\n",
       "      <th>997</th>\n",
       "      <td>['teamwork', 'responsibility', 'integrity']</td>\n",
       "      <td>communication, teamwork, problem-solving, adap...</td>\n",
       "      <td>['']</td>\n",
       "      <td>factory equipment, calibration tools, checklis...</td>\n",
       "      <td>['']</td>\n",
       "      <td>lean manufacturing, assembly, testing, quality...</td>\n",
       "    </tr>\n",
       "    <tr>\n",
       "      <th>998</th>\n",
       "      <td>['discipline', 'written communication', 'commu...</td>\n",
       "      <td>communication, teamwork, problem-solving, adap...</td>\n",
       "      <td>['kafka', 'azure', 'cloud']</td>\n",
       "      <td>Linux, Windows, Prometheus, Grafana, Elastic S...</td>\n",
       "      <td>['problem-solving skills', 'monitoring', 'clou...</td>\n",
       "      <td>system administration, cloud-based services, m...</td>\n",
       "    </tr>\n",
       "    <tr>\n",
       "      <th>999</th>\n",
       "      <td>NaN</td>\n",
       "      <td>NaN</td>\n",
       "      <td>NaN</td>\n",
       "      <td>NaN</td>\n",
       "      <td>NaN</td>\n",
       "      <td>NaN</td>\n",
       "    </tr>\n",
       "  </tbody>\n",
       "</table>\n",
       "<p>1000 rows × 6 columns</p>\n",
       "</div>"
      ],
      "text/plain": [
       "                                           Soft Skills  \\\n",
       "0                                                  NaN   \n",
       "1                                                  NaN   \n",
       "2                                                  NaN   \n",
       "3                                                  NaN   \n",
       "4                                                  NaN   \n",
       "..                                                 ...   \n",
       "995        ['teamwork', 'responsibility', 'integrity']   \n",
       "996  ['discipline', 'focus', 'communication', 'desi...   \n",
       "997        ['teamwork', 'responsibility', 'integrity']   \n",
       "998  ['discipline', 'written communication', 'commu...   \n",
       "999                                                NaN   \n",
       "\n",
       "                                       LLM_soft_skills  \\\n",
       "0                                                  NaN   \n",
       "1                                                  NaN   \n",
       "2                                                  NaN   \n",
       "3                                                  NaN   \n",
       "4                                                  NaN   \n",
       "..                                                 ...   \n",
       "995  communication, teamwork, problem-solving, atte...   \n",
       "996  communication, teamwork, interpersonal skills,...   \n",
       "997  communication, teamwork, problem-solving, adap...   \n",
       "998  communication, teamwork, problem-solving, adap...   \n",
       "999                                                NaN   \n",
       "\n",
       "                           Tools  \\\n",
       "0                            NaN   \n",
       "1                            NaN   \n",
       "2                            NaN   \n",
       "3                            NaN   \n",
       "4                            NaN   \n",
       "..                           ...   \n",
       "995                         ['']   \n",
       "996                      ['sap']   \n",
       "997                         ['']   \n",
       "998  ['kafka', 'azure', 'cloud']   \n",
       "999                          NaN   \n",
       "\n",
       "                                             LLM_tools  \\\n",
       "0                                                  NaN   \n",
       "1                                                  NaN   \n",
       "2                                                  NaN   \n",
       "3                                                  NaN   \n",
       "4                                                  NaN   \n",
       "..                                                 ...   \n",
       "995  calibration equipment, testing equipment, tech...   \n",
       "996                ProE, Creo, AutoCAD, SAP, MS Office   \n",
       "997  factory equipment, calibration tools, checklis...   \n",
       "998  Linux, Windows, Prometheus, Grafana, Elastic S...   \n",
       "999                                                NaN   \n",
       "\n",
       "                                       Industry Skills  \\\n",
       "0                                                  NaN   \n",
       "1                                                  NaN   \n",
       "2                                                  NaN   \n",
       "3                                                  NaN   \n",
       "4                                                  NaN   \n",
       "..                                                 ...   \n",
       "995                                               ['']   \n",
       "996                                               ['']   \n",
       "997                                               ['']   \n",
       "998  ['problem-solving skills', 'monitoring', 'clou...   \n",
       "999                                                NaN   \n",
       "\n",
       "                                  LLM_technical_skills  \n",
       "0                                                  NaN  \n",
       "1                                                  NaN  \n",
       "2                                                  NaN  \n",
       "3                                                  NaN  \n",
       "4                                                  NaN  \n",
       "..                                                 ...  \n",
       "995  quality control, testing methodologies, lean m...  \n",
       "996  electrical engineering, gas insulated switchge...  \n",
       "997  lean manufacturing, assembly, testing, quality...  \n",
       "998  system administration, cloud-based services, m...  \n",
       "999                                                NaN  \n",
       "\n",
       "[1000 rows x 6 columns]"
      ]
     },
     "execution_count": 63,
     "metadata": {},
     "output_type": "execute_result"
    }
   ],
   "source": [
    "data_subset3 = pd.read_csv(\"third_batch.csv\")\n",
    "data_subset3[[\"Soft Skills\", \"LLM_soft_skills\", \"Tools\", \"LLM_tools\", \"Industry Skills\", \"LLM_technical_skills\"]]"
   ]
  },
  {
   "cell_type": "code",
   "execution_count": 67,
   "id": "9b2e4db3",
   "metadata": {},
   "outputs": [
    {
     "name": "stdout",
     "output_type": "stream",
     "text": [
      "Processed 1 rows.\n",
      "Processed 101 rows.\n",
      "Processed 201 rows.\n",
      "Processed 301 rows.\n",
      "Processed 401 rows.\n",
      "Processed 501 rows.\n",
      "Processed 601 rows.\n",
      "Processed 701 rows.\n",
      "Processed 801 rows.\n",
      "Processed 901 rows.\n"
     ]
    }
   ],
   "source": [
    "extract_skills(fourth_batch, \"fourth_batch.csv\", verbose=True)"
   ]
  },
  {
   "cell_type": "code",
   "execution_count": 68,
   "id": "514b106b",
   "metadata": {},
   "outputs": [
    {
     "name": "stdout",
     "output_type": "stream",
     "text": [
      "Processed 1 rows.\n",
      "Processed 101 rows.\n",
      "Processed 201 rows.\n",
      "Processed 301 rows.\n",
      "Processed 401 rows.\n",
      "Processed 501 rows.\n",
      "Processed 601 rows.\n",
      "Processed 701 rows.\n",
      "Processed 801 rows.\n",
      "Processed 901 rows.\n"
     ]
    }
   ],
   "source": [
    "extract_skills(fifth_batch, \"fifth_batch.csv\", verbose=True)"
   ]
  },
  {
   "cell_type": "code",
   "execution_count": 69,
   "id": "656d06ac",
   "metadata": {},
   "outputs": [
    {
     "name": "stdout",
     "output_type": "stream",
     "text": [
      "Processed 1 rows.\n",
      "Processed 101 rows.\n",
      "Processed 201 rows.\n",
      "Processed 301 rows.\n",
      "Processed 401 rows.\n",
      "Processed 501 rows.\n",
      "Processed 601 rows.\n",
      "Processed 701 rows.\n",
      "Processed 801 rows.\n",
      "Processed 901 rows.\n"
     ]
    }
   ],
   "source": [
    "extract_skills(sixth_batch, \"sixth_batch.csv\", verbose=True)"
   ]
  },
  {
   "cell_type": "code",
   "execution_count": 70,
   "id": "945262cc",
   "metadata": {},
   "outputs": [
    {
     "name": "stdout",
     "output_type": "stream",
     "text": [
      "Processed 1 rows.\n",
      "Processed 101 rows.\n",
      "Processed 201 rows.\n",
      "Processed 301 rows.\n"
     ]
    }
   ],
   "source": [
    "extract_skills(seventh_batch, \"seventh_batch.csv\", verbose=True)"
   ]
  },
  {
   "cell_type": "code",
   "execution_count": 72,
   "id": "53fe6682",
   "metadata": {},
   "outputs": [],
   "source": [
    "# Concatenate all the data subsets into a single DataFrame\n",
    "data_subset1 = pd.read_csv(\"first_batch.csv\")\n",
    "data_subset2 = pd.read_csv(\"second_batch.csv\")\n",
    "data_subset3 = pd.read_csv(\"third_batch.csv\")\n",
    "data_subset4 = pd.read_csv(\"fourth_batch.csv\")\n",
    "data_subset5 = pd.read_csv(\"fifth_batch.csv\")\n",
    "data_subset6 = pd.read_csv(\"sixth_batch.csv\")\n",
    "data_subset7 = pd.read_csv(\"seventh_batch.csv\")\n",
    "\n",
    "# Concatenate all the data subsets into a single DataFrame\n",
    "data_with_llm_skills = pd.concat([data_subset1, data_subset2, data_subset3, data_subset4, data_subset5, data_subset6, data_subset7], ignore_index=True)"
   ]
  },
  {
   "cell_type": "code",
   "execution_count": 73,
   "id": "c172cbf9",
   "metadata": {},
   "outputs": [],
   "source": [
    "# Transform the lists of skills into to array like format\n",
    "\n",
    "data_with_llm_skills[\"LLM_soft_skills\"] = data_with_llm_skills[\"LLM_soft_skills\"].apply(lambda x: x.split(\", \") if isinstance(x, str) else x)\n",
    "data_with_llm_skills[\"LLM_tools\"] = data_with_llm_skills[\"LLM_tools\"].apply(lambda x: x.split(\", \") if isinstance(x, str) else x)\n",
    "data_with_llm_skills[\"LLM_technical_skills\"] = data_with_llm_skills[\"LLM_technical_skills\"].apply(lambda x: x.split(\", \") if isinstance(x, str) else x)"
   ]
  },
  {
   "cell_type": "code",
   "execution_count": 75,
   "id": "32261835",
   "metadata": {},
   "outputs": [
    {
     "data": {
      "text/plain": [
       "0    15e38974831a91d5\n",
       "1    9687abe64bcb08a4\n",
       "2    75204b2e081fca34\n",
       "3    a5b27da6109af1f5\n",
       "4    8db9dcafa5ab1a00\n",
       "Name: key, dtype: object"
      ]
     },
     "execution_count": 75,
     "metadata": {},
     "output_type": "execute_result"
    }
   ],
   "source": [
    "data_with_llm_skills['key'].head()"
   ]
  },
  {
   "cell_type": "code",
   "execution_count": 77,
   "id": "01fc7aed",
   "metadata": {},
   "outputs": [],
   "source": [
    "# Merge data contaning LLM extracted skills with full dataset\n",
    "\n",
    "# Read full dataset (contains 'key' as job identifier. Already contains llm labels)\n",
    "full_data = pd.read_csv(\"full_data_march_2025.csv\")\n",
    "\n",
    "full_data_with_llm_skills  = full_data.merge(data_with_llm_skills[[\"key\", \"LLM_soft_skills\", \"LLM_tools\", \"LLM_technical_skills\"]], how=\"left\", on=\"key\")"
   ]
  },
  {
   "cell_type": "code",
   "execution_count": 80,
   "id": "eeae3183-58e6-4255-9902-4391844ab8b6",
   "metadata": {},
   "outputs": [
    {
     "data": {
      "text/html": [
       "<div>\n",
       "<style scoped>\n",
       "    .dataframe tbody tr th:only-of-type {\n",
       "        vertical-align: middle;\n",
       "    }\n",
       "\n",
       "    .dataframe tbody tr th {\n",
       "        vertical-align: top;\n",
       "    }\n",
       "\n",
       "    .dataframe thead th {\n",
       "        text-align: right;\n",
       "    }\n",
       "</style>\n",
       "<table border=\"1\" class=\"dataframe\">\n",
       "  <thead>\n",
       "    <tr style=\"text-align: right;\">\n",
       "      <th></th>\n",
       "      <th>title</th>\n",
       "      <th>description</th>\n",
       "      <th>Tools</th>\n",
       "      <th>Soft Skills</th>\n",
       "      <th>Industry Skills</th>\n",
       "      <th>LLM_tools</th>\n",
       "      <th>LLM_soft_skills</th>\n",
       "      <th>LLM_technical_skills</th>\n",
       "    </tr>\n",
       "  </thead>\n",
       "  <tbody>\n",
       "    <tr>\n",
       "      <th>0</th>\n",
       "      <td>Senior Specialist - Strategy COR407</td>\n",
       "      <td>senior specialist - strategy cor407 qiddiya in...</td>\n",
       "      <td>['powerpoint']</td>\n",
       "      <td>['responsible', 'presentation skills', 'organi...</td>\n",
       "      <td>['problem-solving skills']</td>\n",
       "      <td>[Microsoft Project, PowerPoint, Excel, Word, s...</td>\n",
       "      <td>[analytical thinking, strategic thinking, prob...</td>\n",
       "      <td>[strategic planning, governance, project manag...</td>\n",
       "    </tr>\n",
       "    <tr>\n",
       "      <th>1</th>\n",
       "      <td>SENIOR IT CLINICAL APPLICATIONS ANALYST.</td>\n",
       "      <td>job title senior it clinical applications anal...</td>\n",
       "      <td>['']</td>\n",
       "      <td>['integrity', 'professional', 'project managem...</td>\n",
       "      <td>['project management']</td>\n",
       "      <td>[EHR, electronic health record, ITIL, project ...</td>\n",
       "      <td>[communication, teamwork, problem-solving, lea...</td>\n",
       "      <td>[cybersecurity, audit reporting, data collecti...</td>\n",
       "    </tr>\n",
       "    <tr>\n",
       "      <th>2</th>\n",
       "      <td>IT BUSINESS APPLICATIONS SPECIALIST.</td>\n",
       "      <td>job title it business applications specialist....</td>\n",
       "      <td>['']</td>\n",
       "      <td>['integrity', 'professional', 'project managem...</td>\n",
       "      <td>['project management']</td>\n",
       "      <td>[HRIS, SCM, project management systems, conten...</td>\n",
       "      <td>[communication, teamwork, problem-solving, men...</td>\n",
       "      <td>[business applications management, service man...</td>\n",
       "    </tr>\n",
       "    <tr>\n",
       "      <th>3</th>\n",
       "      <td>SENIOR ENTERPRISE ARCHITECTURE SPECIALIST.</td>\n",
       "      <td>job title senior enterprise architecture speci...</td>\n",
       "      <td>['azure', 'aws']</td>\n",
       "      <td>['integrity', 'professional', 'project managem...</td>\n",
       "      <td>['project management']</td>\n",
       "      <td>[TOGAF, CISSP, AWS, Azure, CCIE, PMP, ITIL]</td>\n",
       "      <td>[communication, teamwork, problem-solving, lea...</td>\n",
       "      <td>[enterprise architecture, IT infrastructure, c...</td>\n",
       "    </tr>\n",
       "    <tr>\n",
       "      <th>4</th>\n",
       "      <td>Senior Talent Acquisition Specialist</td>\n",
       "      <td>job purpose the talent acquisition specialist ...</td>\n",
       "      <td>['']</td>\n",
       "      <td>['coaching', 'professional', 'coordination', '...</td>\n",
       "      <td>['metrics']</td>\n",
       "      <td>[MS Office, recruitment software, talent acqui...</td>\n",
       "      <td>[communication, teamwork, problem-solving, lea...</td>\n",
       "      <td>[data analysis, recruitment analytics, talent ...</td>\n",
       "    </tr>\n",
       "  </tbody>\n",
       "</table>\n",
       "</div>"
      ],
      "text/plain": [
       "                                        title  \\\n",
       "0         Senior Specialist - Strategy COR407   \n",
       "1    SENIOR IT CLINICAL APPLICATIONS ANALYST.   \n",
       "2        IT BUSINESS APPLICATIONS SPECIALIST.   \n",
       "3  SENIOR ENTERPRISE ARCHITECTURE SPECIALIST.   \n",
       "4        Senior Talent Acquisition Specialist   \n",
       "\n",
       "                                         description             Tools  \\\n",
       "0  senior specialist - strategy cor407 qiddiya in...    ['powerpoint']   \n",
       "1  job title senior it clinical applications anal...              ['']   \n",
       "2  job title it business applications specialist....              ['']   \n",
       "3  job title senior enterprise architecture speci...  ['azure', 'aws']   \n",
       "4  job purpose the talent acquisition specialist ...              ['']   \n",
       "\n",
       "                                         Soft Skills  \\\n",
       "0  ['responsible', 'presentation skills', 'organi...   \n",
       "1  ['integrity', 'professional', 'project managem...   \n",
       "2  ['integrity', 'professional', 'project managem...   \n",
       "3  ['integrity', 'professional', 'project managem...   \n",
       "4  ['coaching', 'professional', 'coordination', '...   \n",
       "\n",
       "              Industry Skills  \\\n",
       "0  ['problem-solving skills']   \n",
       "1      ['project management']   \n",
       "2      ['project management']   \n",
       "3      ['project management']   \n",
       "4                 ['metrics']   \n",
       "\n",
       "                                           LLM_tools  \\\n",
       "0  [Microsoft Project, PowerPoint, Excel, Word, s...   \n",
       "1  [EHR, electronic health record, ITIL, project ...   \n",
       "2  [HRIS, SCM, project management systems, conten...   \n",
       "3        [TOGAF, CISSP, AWS, Azure, CCIE, PMP, ITIL]   \n",
       "4  [MS Office, recruitment software, talent acqui...   \n",
       "\n",
       "                                     LLM_soft_skills  \\\n",
       "0  [analytical thinking, strategic thinking, prob...   \n",
       "1  [communication, teamwork, problem-solving, lea...   \n",
       "2  [communication, teamwork, problem-solving, men...   \n",
       "3  [communication, teamwork, problem-solving, lea...   \n",
       "4  [communication, teamwork, problem-solving, lea...   \n",
       "\n",
       "                                LLM_technical_skills  \n",
       "0  [strategic planning, governance, project manag...  \n",
       "1  [cybersecurity, audit reporting, data collecti...  \n",
       "2  [business applications management, service man...  \n",
       "3  [enterprise architecture, IT infrastructure, c...  \n",
       "4  [data analysis, recruitment analytics, talent ...  "
      ]
     },
     "execution_count": 80,
     "metadata": {},
     "output_type": "execute_result"
    }
   ],
   "source": [
    "# Show result in test dataset\n",
    "full_data_with_llm_skills[['title', 'description', \"Tools\", 'Soft Skills', 'Industry Skills', 'LLM_tools', 'LLM_soft_skills', 'LLM_technical_skills']].head()"
   ]
  },
  {
   "cell_type": "code",
   "execution_count": null,
   "id": "def2c0b8-ea6f-44b3-bd4d-7d6db194bc0f",
   "metadata": {},
   "outputs": [],
   "source": [
    "# Save data locally for reference\n",
    "\n",
    "full_data_with_llm_skills.to_csv(\"Saudi_full_data_with_llm_extracted_skills.csv\", index=False)"
   ]
  }
 ],
 "metadata": {
  "kernelspec": {
   "display_name": "base",
   "language": "python",
   "name": "python3"
  },
  "language_info": {
   "codemirror_mode": {
    "name": "ipython",
    "version": 3
   },
   "file_extension": ".py",
   "mimetype": "text/x-python",
   "name": "python",
   "nbconvert_exporter": "python",
   "pygments_lexer": "ipython3",
   "version": "3.11.7"
  }
 },
 "nbformat": 4,
 "nbformat_minor": 5
}
