{
 "cells": [
  {
   "cell_type": "markdown",
   "id": "b684412c-426a-4cf5-b73a-a1d2858b46e5",
   "metadata": {},
   "source": [
    "# LLM skills extraction\n",
    "The goal of this notebook is to use gpt4 to extract values for soft skills and technicall skills using the current job descriptions in the Saudi Indeed dataset. This will be done in order to standardize the method of data collection of Saudi Indeed branch with the USA branch of the Job Trends project."
   ]
  },
  {
   "cell_type": "code",
   "execution_count": 2,
   "id": "ed68cc82-b49d-440a-a301-67fcec1777ca",
   "metadata": {},
   "outputs": [],
   "source": [
    "# Import relevant packages\n",
    "\n",
    "import pandas as pd\n",
    "import numpy as np\n",
    "import requests\n",
    "import re\n",
    "import json\n",
    "\n",
    "# Haystack imports\n",
    "from typing import List\n",
    "from haystack.dataclasses import Document\n",
    "from haystack import Pipeline\n",
    "from haystack import component\n",
    "from haystack.components.builders import PromptBuilder\n",
    "from haystack.components.generators.openai import OpenAIGenerator\n",
    "from haystack.components.fetchers import LinkContentFetcher\n",
    "from haystack.components.converters import HTMLToDocument"
   ]
  },
  {
   "cell_type": "code",
   "execution_count": 3,
   "id": "6e45e0b3-48aa-4fb4-b8f4-99888ad7c882",
   "metadata": {},
   "outputs": [],
   "source": [
    "# Supress some warnings\n",
    "\n",
    "import warnings\n",
    "warnings.filterwarnings('ignore')"
   ]
  },
  {
   "cell_type": "code",
   "execution_count": 4,
   "id": "098a8cc6-6e23-4f25-be13-9124ce126a9e",
   "metadata": {},
   "outputs": [],
   "source": [
    "# Load env files\n",
    "\n",
    "from helper import load_env\n",
    "load_env()"
   ]
  },
  {
   "cell_type": "markdown",
   "id": "a589c772-3ab3-44cb-b45e-1bf4419a9b1b",
   "metadata": {},
   "source": [
    "### Load data"
   ]
  },
  {
   "cell_type": "code",
   "execution_count": 43,
   "id": "5a9cf6d1-056d-49f2-a4a5-00200e52a646",
   "metadata": {},
   "outputs": [],
   "source": [
    "# Load data\n",
    "data = pd.read_csv(\"processed_data_2025-03-24.csv\") "
   ]
  },
  {
   "cell_type": "markdown",
   "id": "dde1dc76-0a85-42be-ac50-8b65c5448c37",
   "metadata": {},
   "source": [
    "### Build LLM Application for skill extraction"
   ]
  },
  {
   "cell_type": "code",
   "execution_count": 288,
   "id": "9c7ff256-fcde-47db-90aa-8a5281bcd122",
   "metadata": {},
   "outputs": [],
   "source": [
    "# Build a haystack component that can be used to fetch job descriptions from the Dataframe\n",
    "\n",
    "@component\n",
    "class DescriptionFetcher:\n",
    "\n",
    "    '''\n",
    "    Fetch information from a row in the dataset and convert it to json format, which can be subsequently embedded and used by a llm model.\n",
    "    '''\n",
    "\n",
    "    @component.output_types(job_info=str)\n",
    "    def run(self, df, row_number: int): # The component requires a DataFrame and a row number (integer position based)\n",
    "        return {\"job_info\": {df.iloc[row_number][[\"description\"]].to_json()}}"
   ]
  },
  {
   "cell_type": "code",
   "execution_count": 290,
   "id": "604ba308-9a52-4d1f-a051-258fb36a4329",
   "metadata": {},
   "outputs": [],
   "source": [
    "# Set the template for query to be equivalent to the one used by USA branch\n",
    "\n",
    "query_template = \"\"\"\n",
    "    You are an expert in extracting both explicit and implicit skills from job descriptions, with a particular focus on accuracy and detail.\n",
    "    Your task is to extract **all** relevant skills and job-related details, ensuring comprehensive coverage, especially for data-related professions.\n",
    "    \n",
    "    1. Identify Soft Skills:\n",
    "        - Extract non-technical skills, such as communication, teamwork, problem-solving, and leadership.\n",
    "        - Include both explicit and implied soft skills (e.g., \"collaborative environment\" suggests teamwork).\n",
    "        - Normalize skill names (e.g., \"Excellent communication skills\" should be \"communication\").\n",
    "        - List all identified soft skills, separated by commas.\n",
    "    \n",
    "    2. Identify Technical Skills and Tools:\n",
    "    \n",
    "        a. Tools:\n",
    "            - Extract specific tools mentioned in the job description, including programming languages, software applications, APIs, libraries, platforms, frameworks, cloud services, and other relevant technologies.\n",
    "            - Extract both general technologies and their specific components (e.g., \"AWS\" and services like \"EMR,\" \"S3\").            \n",
    "            - Examples include Python, SQL, Postman, AWS, and CRM software.\n",
    "            - Normalize tool names (e.g., \"Experience with Python\" becomes \"Python\").\n",
    "            - List all identified tools, separated by commas.\n",
    "    \n",
    "        b. Technical Skills::\n",
    "            - Extract all technical abilities, such as methodologies, domain-specific knowledge, or techniques.\n",
    "            - Extract both broad technical concepts and their specific examples (e.g., \"machine learning\" and related algorithms like \"regression,\" \"clustering\")            \n",
    "            - Examples include data analysis, machine learning algorithms, financial analysis, A/B testing, data governance, clustering, regression.\n",
    "            - Normalize skill names (e.g., \"Proficiency in Machine Learning\" should be \"Machine Learning\").\n",
    "            - List all identified technical skills, separated by commas.\n",
    "\n",
    "    3. Ensure Completeness and Accuracy of the extracted skills:\n",
    "        - Thoroughly review the entire job description to ensure **no skills are missed**.\n",
    "        - Double-check for any overlooked tools, methodologies, or competencies\n",
    "        - If there is any uncertainty about a skill or its classification, include it.\n",
    "    \n",
    "    Job Description: {{job_description}}\n",
    "    Output:\n",
    "    \"\"\""
   ]
  },
  {
   "cell_type": "code",
   "execution_count": 292,
   "id": "206e101a-417e-49ee-bc78-93ead5a6848f",
   "metadata": {},
   "outputs": [
    {
     "data": {
      "text/plain": [
       "<haystack.core.pipeline.pipeline.Pipeline object at 0x000002DEC77B7510>\n",
       "🚅 Components\n",
       "  - fetcher: DescriptionFetcher\n",
       "  - prompt: PromptBuilder\n",
       "  - llm_gpt: OpenAIGenerator\n",
       "🛤️ Connections\n",
       "  - fetcher.job_info -> prompt.job_description (str)\n",
       "  - prompt.prompt -> llm_gpt.prompt (str)"
      ]
     },
     "execution_count": 292,
     "metadata": {},
     "output_type": "execute_result"
    }
   ],
   "source": [
    "# Build the application that will be extract soft skills and technical skills from job descriptions\n",
    "\n",
    "fetcher = DescriptionFetcher()\n",
    "prompt = PromptBuilder(template=query_template) \n",
    "llm_gpt = OpenAIGenerator(model=\"gpt-4o-mini\")\n",
    "\n",
    "# Create a pipeline and add the components \n",
    "gpt_extractor = Pipeline()\n",
    "gpt_extractor.add_component(\"fetcher\", fetcher)\n",
    "gpt_extractor.add_component(\"prompt\", prompt)\n",
    "gpt_extractor.add_component(\"llm_gpt\", llm_gpt)\n",
    "\n",
    "# Create connections between components\n",
    "gpt_extractor.connect(\"fetcher.job_info\", \"prompt.job_description\")\n",
    "gpt_extractor.connect(\"prompt\", \"llm_gpt\")"
   ]
  },
  {
   "cell_type": "markdown",
   "id": "5fd93dac-3d9f-49b3-b75f-03b7e97163f2",
   "metadata": {},
   "source": [
    "### Test applciation"
   ]
  },
  {
   "cell_type": "code",
   "execution_count": 320,
   "id": "910da1b2-6aca-4b79-b214-a936c806cbd7",
   "metadata": {},
   "outputs": [],
   "source": [
    "# Test the application - extract skills from first rows using gpt_extractor application\n",
    "\n",
    "gpt_replies = []\n",
    "\n",
    "for i in range(10):\n",
    "    reply = gpt_extractor.run({\"fetcher\": {\"df\": data, \"row_number\": i}})\n",
    "    gpt_replies.append(reply[\"llm_gpt\"][\"replies\"][0])"
   ]
  },
  {
   "cell_type": "code",
   "execution_count": 322,
   "id": "8917d478-9503-4d0c-b1aa-000707ed3606",
   "metadata": {},
   "outputs": [
    {
     "data": {
      "text/plain": [
       "'### Soft Skills:\\ncommunication, teamwork, problem-solving, decision-making, adaptability, collaboration, relationship management, creativity, proactive thinking\\n\\n### Technical Skills and Tools:\\n\\n#### a. Tools:\\ncloud computing\\n\\n#### b. Technical Skills:\\nlegal drafting, negotiation, advising on commercial agreements, familiarity with regulatory developments, legal risk assessment, knowledge of multi-jurisdictional transactions\\n\\n### Completeness and Accuracy:\\nThe extracted skills include a comprehensive set of both soft and technical skills relevant to the job description provided, focusing on the legal and technological aspects of the corporate counsel position at Google.'"
      ]
     },
     "execution_count": 322,
     "metadata": {},
     "output_type": "execute_result"
    }
   ],
   "source": [
    "# Inspect reply format\n",
    "gpt_replies[0]"
   ]
  },
  {
   "cell_type": "code",
   "execution_count": 324,
   "id": "500cfb0b-245a-437b-84d1-703958f5e677",
   "metadata": {},
   "outputs": [
    {
     "name": "stdout",
     "output_type": "stream",
     "text": [
      "### Soft Skills:\n",
      "communication, teamwork, problem-solving, decision-making, adaptability, collaboration, relationship management, creativity, proactive thinking\n",
      "\n",
      "### Technical Skills and Tools:\n",
      "\n",
      "#### a. Tools:\n",
      "cloud computing\n",
      "\n",
      "#### b. Technical Skills:\n",
      "legal drafting, negotiation, advising on commercial agreements, familiarity with regulatory developments, legal risk assessment, knowledge of multi-jurisdictional transactions\n",
      "\n",
      "### Completeness and Accuracy:\n",
      "The extracted skills include a comprehensive set of both soft and technical skills relevant to the job description provided, focusing on the legal and technological aspects of the corporate counsel position at Google.\n",
      "**1. Identify Soft Skills:**\n",
      "- communication, teamwork, problem-solving, interpersonal skills, relationship building, troubleshooting\n",
      "\n",
      "**2. Identify Technical Skills and Tools:**\n",
      "\n",
      "   **a. Tools:**\n",
      "- Google Cloud Platform (GCP), Compute Engine, Kubernetes Engine, Terraform, Linux, Windows Server\n",
      "\n",
      "   **b. Technical Skills:**\n",
      "- infrastructure management, cloud architecture, performance optimization, security best practices, networking principles, containerization, automation, scripting\n",
      "\n",
      "**3. Ensure Completeness and Accuracy of the extracted skills:**\n",
      "- All relevant skills and tools have been thoroughly extracted from the job description. No skills have been overlooked, and any potential uncertainties in classification have also been included.\n",
      "1. **Soft Skills**: \n",
      "   communication, teamwork, leadership, problem-solving, collaboration, customer engagement, adaptability, mentoring, strategic thinking\n",
      "\n",
      "2. **Technical Skills and Tools**:\n",
      "\n",
      "    a. **Tools**: \n",
      "   Microsoft Purview, Microsoft Defender for Endpoint, Microsoft Defender for Cloud, Microsoft Defender for Office 365, Microsoft Defender for Identity, Microsoft Sentinel, Logic Apps, Azure, AWS, Google Cloud Platform (GCP)\n",
      "\n",
      "    b. **Technical Skills**: \n",
      "   Security compliance, threat management, security architecture design, data loss prevention, insider risk management, compliance management, e-discovery, information protection, zero trust security, multi-cloud security strategies, automation, AI-powered threat analytics, SIEM, SOAR, cybersecurity consulting, operational management, regulatory compliance (ISO 27001, GDPR, NIST, CIS)\n",
      "\n",
      "3. **Completeness and Accuracy**: \n",
      "   All skills have been thoroughly extracted from the job description, ensuring no relevant skill, tool, or methodology has been overlooked. The classification of each extract has been carefully reviewed and accurately normalized.\n"
     ]
    }
   ],
   "source": [
    "# Inspect multiple replies\n",
    "\n",
    "for i in range(3):\n",
    "    print(gpt_replies[i])"
   ]
  },
  {
   "cell_type": "code",
   "execution_count": 394,
   "id": "cff3714f-e26f-456a-b373-0f1d8644ada6",
   "metadata": {},
   "outputs": [],
   "source": [
    "patterns = {\n",
    "    \"Soft Skills\": r\"\\*\\*Soft Skills:\\*\\*.*?-(.*?)\\n\",\n",
    "    \"Tools\": r\"a. \\*\\*Tools:\\*\\*.*?-(.*?)\\n\",\n",
    "    \"Technical Skills\": r\"b. \\*\\*Technical Skills:\\*\\*.*?-(.*?)\\n\"\n",
    "}\n",
    "\n",
    "soft_skill_pattern = r\"\\*?\\*?Soft Skills:\\*?\\*?\\n(.*?)\\n\"\n",
    "tools_pattern =  r\"a. \\*?\\*?Tools:\\*?\\*?\\n(.*?)\\n\"\n",
    "technical_skill_pattern =  r\"b. \\*?\\*?Technical Skills:\\*?\\*?\\n(.*?)\\n\""
   ]
  },
  {
   "cell_type": "code",
   "execution_count": 396,
   "id": "815c30d4-6149-4c4a-a052-f4bba64ce694",
   "metadata": {},
   "outputs": [
    {
     "data": {
      "text/plain": [
       "'### Soft Skills:\\ncommunication, teamwork, problem-solving, decision-making, adaptability, collaboration, relationship management, creativity, proactive thinking\\n\\n### Technical Skills and Tools:\\n\\n#### a. Tools:\\ncloud computing\\n\\n#### b. Technical Skills:\\nlegal drafting, negotiation, advising on commercial agreements, familiarity with regulatory developments, legal risk assessment, knowledge of multi-jurisdictional transactions\\n\\n### Completeness and Accuracy:\\nThe extracted skills include a comprehensive set of both soft and technical skills relevant to the job description provided, focusing on the legal and technological aspects of the corporate counsel position at Google.'"
      ]
     },
     "execution_count": 396,
     "metadata": {},
     "output_type": "execute_result"
    }
   ],
   "source": [
    "gpt_replies[0]"
   ]
  },
  {
   "cell_type": "code",
   "execution_count": 398,
   "id": "277bf312-3f9e-414d-b06a-1b93bed27dbc",
   "metadata": {},
   "outputs": [
    {
     "name": "stdout",
     "output_type": "stream",
     "text": [
      "communication, teamwork, problem-solving, decision-making, adaptability, collaboration, relationship management, creativity, proactive thinking\n",
      "cloud computing\n",
      "legal drafting, negotiation, advising on commercial agreements, familiarity with regulatory developments, legal risk assessment, knowledge of multi-jurisdictional transactions\n"
     ]
    }
   ],
   "source": [
    "# Capture text that account for the json with the target data \n",
    "\n",
    "soft_skills_match = re.search(soft_skill_pattern, gpt_replies[0], re.DOTALL)\n",
    "tools_match = re.search(tools_pattern, gpt_replies[0], re.DOTALL)\n",
    "technical_skill_match = re.search(technical_skill_pattern, gpt_replies[0], re.DOTALL)\n",
    "\n",
    "print(soft_skills_match.group(1).strip())\n",
    "print(tools_match.group(1).strip())\n",
    "print(technical_skill_match.group(1).strip())"
   ]
  },
  {
   "cell_type": "code",
   "execution_count": 229,
   "id": "9f5ca797-8f3f-4540-9fa1-a61163194561",
   "metadata": {},
   "outputs": [
    {
     "data": {
      "text/plain": [
       "'{\\n  \"soft_skills\": \"communication, collaboration, problem-solving, adaptability, decision-making\",\\n  \"technical_skills\": \"cloud computing, legal drafting, commercial agreements, regulatory compliance, cross-functional teamwork\"\\n}'"
      ]
     },
     "execution_count": 229,
     "metadata": {},
     "output_type": "execute_result"
    }
   ],
   "source": [
    "# Capture text that account for the json with the target data \n",
    "\n",
    "pattern = r'\\{.*?\\}'\n",
    "match = re.search(pattern, gpt_replies[0], re.DOTALL)\n",
    "\n",
    "# Inspect match\n",
    "match.group(0)"
   ]
  },
  {
   "cell_type": "code",
   "execution_count": 235,
   "id": "86110408-938b-4d32-b48e-186d02eaabbc",
   "metadata": {},
   "outputs": [
    {
     "data": {
      "text/plain": [
       "{'soft_skills': 'communication, collaboration, problem-solving, adaptability, decision-making',\n",
       " 'technical_skills': 'cloud computing, legal drafting, commercial agreements, regulatory compliance, cross-functional teamwork'}"
      ]
     },
     "execution_count": 235,
     "metadata": {},
     "output_type": "execute_result"
    }
   ],
   "source": [
    "# Transform text data into dictionary\n",
    "\n",
    "# Select text data that matches the pattern\n",
    "json_string = match.group(0)\n",
    "\n",
    "# Convert the json string to  dictionary\n",
    "data_dict = json.loads(json_string)\n",
    "\n",
    "# Inspect resulting dict\n",
    "data_dict"
   ]
  },
  {
   "cell_type": "code",
   "execution_count": 280,
   "id": "96b67e65-05be-469c-803d-23e8cbff4d0c",
   "metadata": {},
   "outputs": [],
   "source": [
    "# Use this process and the dictionary keys \"soft_skills\" and \"technical_skills\" to build new columns for the dataset\n",
    "\n",
    "# Test dataset\n",
    "data_subset = data.iloc[:10]\n",
    "\n",
    "# Lists to store values\n",
    "LLM_soft_skills = []\n",
    "LLM_technical_skills = []\n",
    "\n",
    "# Repeat process shown above for all of the replies\n",
    "for i in range(10):\n",
    "    # Capture text that account for the json with the target data \n",
    "    pattern = r'\\{.*?\\}'\n",
    "    match = re.search(pattern, gpt_replies[i], re.DOTALL)    \n",
    "    # Select text data that matches the pattern if it exists\n",
    "    try: \n",
    "        json_string = match.group(0)\n",
    "        # Convert the json string to  dictionary\n",
    "        skills_dict = json.loads(json_string)\n",
    "    except:\n",
    "        skills_dict = {\"soft_skills\": [], \"technical_skills\": []}\n",
    "    # Add skills extracted to lists created previously\n",
    "    LLM_soft_skills.append(skills_dict[\"soft_skills\"])\n",
    "    LLM_technical_skills.append(skills_dict[\"technical_skills\"])\n",
    "    \n",
    "# Add skills extracted by the LLM to the current dataset\n",
    "data_subset[\"LLM_soft_skills\"] = LLM_soft_skills\n",
    "data_subset[\"LLM_technical_skills\"] = LLM_technical_skills"
   ]
  },
  {
   "cell_type": "code",
   "execution_count": 284,
   "id": "eeae3183-58e6-4255-9902-4391844ab8b6",
   "metadata": {},
   "outputs": [
    {
     "data": {
      "text/html": [
       "<div>\n",
       "<style scoped>\n",
       "    .dataframe tbody tr th:only-of-type {\n",
       "        vertical-align: middle;\n",
       "    }\n",
       "\n",
       "    .dataframe tbody tr th {\n",
       "        vertical-align: top;\n",
       "    }\n",
       "\n",
       "    .dataframe thead th {\n",
       "        text-align: right;\n",
       "    }\n",
       "</style>\n",
       "<table border=\"1\" class=\"dataframe\">\n",
       "  <thead>\n",
       "    <tr style=\"text-align: right;\">\n",
       "      <th></th>\n",
       "      <th>title</th>\n",
       "      <th>description</th>\n",
       "      <th>Soft Skills</th>\n",
       "      <th>Industry Skills</th>\n",
       "      <th>LLM_soft_skills</th>\n",
       "      <th>LLM_technical_skills</th>\n",
       "    </tr>\n",
       "  </thead>\n",
       "  <tbody>\n",
       "    <tr>\n",
       "      <th>0</th>\n",
       "      <td>Corporate Counsel, Go-To- Market, Cloud (Engli...</td>\n",
       "      <td>note: by applying to this position you will ha...</td>\n",
       "      <td>['collaborative']</td>\n",
       "      <td>['cloud', 'cloud computing']</td>\n",
       "      <td>communication, collaboration, problem-solving,...</td>\n",
       "      <td>cloud computing, legal drafting, commercial ag...</td>\n",
       "    </tr>\n",
       "    <tr>\n",
       "      <th>1</th>\n",
       "      <td>GCP Infra Cloud Support Engineer</td>\n",
       "      <td>role summary: provides expert-level support fo...</td>\n",
       "      <td>['communication', 'interpersonal skills', 'pro...</td>\n",
       "      <td>['problem-solving skills', 'cloud', 'scripting...</td>\n",
       "      <td>communication, interpersonal skills, problem-s...</td>\n",
       "      <td>Google Cloud Platform (GCP), Linux, Windows, n...</td>\n",
       "    </tr>\n",
       "    <tr>\n",
       "      <th>2</th>\n",
       "      <td>Security Consultant - Microsoft Security</td>\n",
       "      <td>helpag is looking for a talented and experienc...</td>\n",
       "      <td>['leadership', 'design', 'communication', 'inn...</td>\n",
       "      <td>['cloud', 'data security', 'google cloud']</td>\n",
       "      <td>communication, teamwork, problem-solving, lead...</td>\n",
       "      <td>Microsoft Purview, Microsoft Defender, complia...</td>\n",
       "    </tr>\n",
       "    <tr>\n",
       "      <th>3</th>\n",
       "      <td>Cloud Data Engineer</td>\n",
       "      <td>job overview: at master-works, we are seeking ...</td>\n",
       "      <td>['design', 'decision-making', 'responsible', '...</td>\n",
       "      <td>['cloud', 'data modeling', 'transform', 'extra...</td>\n",
       "      <td>collaboration, problem-solving, adaptability, ...</td>\n",
       "      <td>Google Cloud Platform, GCP, data pipelines, da...</td>\n",
       "    </tr>\n",
       "    <tr>\n",
       "      <th>4</th>\n",
       "      <td>GCP Security Cloud Support Engineer</td>\n",
       "      <td>job title: cloud support security engineer (gc...</td>\n",
       "      <td>['focus', 'responsible', 'design', 'communicat...</td>\n",
       "      <td>['logging', 'cloud', 'scripting', 'monitoring'...</td>\n",
       "      <td>communication, collaboration, problem-solving,...</td>\n",
       "      <td>Google Cloud Platform, GCP security services, ...</td>\n",
       "    </tr>\n",
       "    <tr>\n",
       "      <th>5</th>\n",
       "      <td>Data Engineer-</td>\n",
       "      <td>nationality: any arabic nationality to achieve...</td>\n",
       "      <td>['integrity', 'responsible', 'design', 'commun...</td>\n",
       "      <td>['cloud', 'transform', 'extract', 'etl', 'big ...</td>\n",
       "      <td>communication, adaptability</td>\n",
       "      <td>data collection, data integration, data storag...</td>\n",
       "    </tr>\n",
       "    <tr>\n",
       "      <th>6</th>\n",
       "      <td>Cybersecurity Engineer</td>\n",
       "      <td>description we're looking for a cybersecurity ...</td>\n",
       "      <td>['project management', 'research', 'communicat...</td>\n",
       "      <td>['cloud', 'project management', 'scripting', '...</td>\n",
       "      <td>communication, influencing, stakeholder manage...</td>\n",
       "      <td>cloud security, Google Cloud Platform, Terrafo...</td>\n",
       "    </tr>\n",
       "    <tr>\n",
       "      <th>7</th>\n",
       "      <td>Data Engineer</td>\n",
       "      <td>do you want to love what you do at work? do yo...</td>\n",
       "      <td>['agility', 'project management', 'integrity',...</td>\n",
       "      <td>['data integration', 'machine learning', 'prob...</td>\n",
       "      <td>communication, problem-solving, teamwork, coll...</td>\n",
       "      <td>data integration, ETL, Apache Airflow, Airbyte...</td>\n",
       "    </tr>\n",
       "    <tr>\n",
       "      <th>8</th>\n",
       "      <td>Senior DevOps Engineer (Riyadh, on-site)</td>\n",
       "      <td>what we need oivan is looking for a senior dev...</td>\n",
       "      <td>['responsible', 'teamwork', 'communication', '...</td>\n",
       "      <td>['cloud', 'scripting', 'data visualization', '...</td>\n",
       "      <td>communication, teamwork, problem-solving, adap...</td>\n",
       "      <td>DevOps, Linux, networking, automation, pipelin...</td>\n",
       "    </tr>\n",
       "    <tr>\n",
       "      <th>9</th>\n",
       "      <td>DevOps for Cloud</td>\n",
       "      <td>we are looking for a highly skilled *devops en...</td>\n",
       "      <td>['collaboration', 'communication', 'problem-so...</td>\n",
       "      <td>['problem-solving skills', 'cloud', 'scripting...</td>\n",
       "      <td>problem-solving, communication, collaboration,...</td>\n",
       "      <td>DevOps, cloud technologies, AWS, Azure, Google...</td>\n",
       "    </tr>\n",
       "  </tbody>\n",
       "</table>\n",
       "</div>"
      ],
      "text/plain": [
       "                                               title  \\\n",
       "0  Corporate Counsel, Go-To- Market, Cloud (Engli...   \n",
       "1                   GCP Infra Cloud Support Engineer   \n",
       "2           Security Consultant - Microsoft Security   \n",
       "3                                Cloud Data Engineer   \n",
       "4                GCP Security Cloud Support Engineer   \n",
       "5                                     Data Engineer-   \n",
       "6                             Cybersecurity Engineer   \n",
       "7                                      Data Engineer   \n",
       "8           Senior DevOps Engineer (Riyadh, on-site)   \n",
       "9                                   DevOps for Cloud   \n",
       "\n",
       "                                         description  \\\n",
       "0  note: by applying to this position you will ha...   \n",
       "1  role summary: provides expert-level support fo...   \n",
       "2  helpag is looking for a talented and experienc...   \n",
       "3  job overview: at master-works, we are seeking ...   \n",
       "4  job title: cloud support security engineer (gc...   \n",
       "5  nationality: any arabic nationality to achieve...   \n",
       "6  description we're looking for a cybersecurity ...   \n",
       "7  do you want to love what you do at work? do yo...   \n",
       "8  what we need oivan is looking for a senior dev...   \n",
       "9  we are looking for a highly skilled *devops en...   \n",
       "\n",
       "                                         Soft Skills  \\\n",
       "0                                  ['collaborative']   \n",
       "1  ['communication', 'interpersonal skills', 'pro...   \n",
       "2  ['leadership', 'design', 'communication', 'inn...   \n",
       "3  ['design', 'decision-making', 'responsible', '...   \n",
       "4  ['focus', 'responsible', 'design', 'communicat...   \n",
       "5  ['integrity', 'responsible', 'design', 'commun...   \n",
       "6  ['project management', 'research', 'communicat...   \n",
       "7  ['agility', 'project management', 'integrity',...   \n",
       "8  ['responsible', 'teamwork', 'communication', '...   \n",
       "9  ['collaboration', 'communication', 'problem-so...   \n",
       "\n",
       "                                     Industry Skills  \\\n",
       "0                       ['cloud', 'cloud computing']   \n",
       "1  ['problem-solving skills', 'cloud', 'scripting...   \n",
       "2         ['cloud', 'data security', 'google cloud']   \n",
       "3  ['cloud', 'data modeling', 'transform', 'extra...   \n",
       "4  ['logging', 'cloud', 'scripting', 'monitoring'...   \n",
       "5  ['cloud', 'transform', 'extract', 'etl', 'big ...   \n",
       "6  ['cloud', 'project management', 'scripting', '...   \n",
       "7  ['data integration', 'machine learning', 'prob...   \n",
       "8  ['cloud', 'scripting', 'data visualization', '...   \n",
       "9  ['problem-solving skills', 'cloud', 'scripting...   \n",
       "\n",
       "                                     LLM_soft_skills  \\\n",
       "0  communication, collaboration, problem-solving,...   \n",
       "1  communication, interpersonal skills, problem-s...   \n",
       "2  communication, teamwork, problem-solving, lead...   \n",
       "3  collaboration, problem-solving, adaptability, ...   \n",
       "4  communication, collaboration, problem-solving,...   \n",
       "5                        communication, adaptability   \n",
       "6  communication, influencing, stakeholder manage...   \n",
       "7  communication, problem-solving, teamwork, coll...   \n",
       "8  communication, teamwork, problem-solving, adap...   \n",
       "9  problem-solving, communication, collaboration,...   \n",
       "\n",
       "                                LLM_technical_skills  \n",
       "0  cloud computing, legal drafting, commercial ag...  \n",
       "1  Google Cloud Platform (GCP), Linux, Windows, n...  \n",
       "2  Microsoft Purview, Microsoft Defender, complia...  \n",
       "3  Google Cloud Platform, GCP, data pipelines, da...  \n",
       "4  Google Cloud Platform, GCP security services, ...  \n",
       "5  data collection, data integration, data storag...  \n",
       "6  cloud security, Google Cloud Platform, Terrafo...  \n",
       "7  data integration, ETL, Apache Airflow, Airbyte...  \n",
       "8  DevOps, Linux, networking, automation, pipelin...  \n",
       "9  DevOps, cloud technologies, AWS, Azure, Google...  "
      ]
     },
     "execution_count": 284,
     "metadata": {},
     "output_type": "execute_result"
    }
   ],
   "source": [
    "# Show result in test dataset\n",
    "data_subset[['title', 'description', 'Soft Skills', 'Industry Skills', 'LLM_soft_skills', 'LLM_technical_skills']]"
   ]
  },
  {
   "cell_type": "code",
   "execution_count": 286,
   "id": "def2c0b8-ea6f-44b3-bd4d-7d6db194bc0f",
   "metadata": {},
   "outputs": [],
   "source": [
    "# Save test data locally for reference\n",
    "\n",
    "data_subset.to_csv(\"test_data_llm_skill_extaction.csv\", index=False)"
   ]
  },
  {
   "cell_type": "markdown",
   "id": "f5816be8-66aa-4b5a-8ad9-bfe90ea62e95",
   "metadata": {},
   "source": [
    "### Final remarks\n",
    "If the resulting test dataset is according to expection, the process depicted here can be applied over the target dataset. There is no need to apply it over all the processed dataset as that would be costly and produce information that won't be used. Instead, the application could be done over the LLM labeled dataset where the label is not \"None\" (that is, it could be applied solely to jobs that fall within the scope of the project as determined by the LLM labeling and just once per key. Subsequently, we can merge the llm labeled dataset with the processed dataset using 'key' as the common column).\n",
    "\n",
    "Next steps\n",
    "The next step would be to embbed the individual entries in 'LLM_soft_skills' and 'LLM_technicall_skills' for normalization purposes. The current text embedder use by the USA branch is model=\"text-embedding-3-large\"."
   ]
  }
 ],
 "metadata": {
  "kernelspec": {
   "display_name": "Python 3 (ipykernel)",
   "language": "python",
   "name": "python3"
  },
  "language_info": {
   "codemirror_mode": {
    "name": "ipython",
    "version": 3
   },
   "file_extension": ".py",
   "mimetype": "text/x-python",
   "name": "python",
   "nbconvert_exporter": "python",
   "pygments_lexer": "ipython3",
   "version": "3.11.7"
  }
 },
 "nbformat": 4,
 "nbformat_minor": 5
}
